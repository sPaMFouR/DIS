{
 "cells": [
  {
   "cell_type": "markdown",
   "metadata": {},
   "source": [
    "# Linear Regression\n",
    "\n",
    "In this Notebook we would learn how to use linear models in regression problems.\n",
    "\n",
    "- simple linear regression : a response variable and single explanatory variable\n",
    "- multiple linear regression: can support more than one explanatory variable\n",
    "- polynomial regression: model nonlinear relationships\n"
   ]
  },
  {
   "cell_type": "markdown",
   "metadata": {},
   "source": [
    "## Simple Linear Regression\n",
    "Simple\n",
    "linear regression can be used to model a linear relationship between one response\n",
    "variable and one explanatory variable"
   ]
  },
  {
   "cell_type": "markdown",
   "metadata": {},
   "source": [
    "### Lets predict the cost of the Pizza \n",
    "\n",
    "<img src=\"Images/Pizza.jpg\" width=\"70%\">\n",
    "\n",
    "Suppose that if you would think of designing the application to predict the cost of the Pizza from its size. Our initial impression is, larger the pizza higher the cost. But what if someone asked you to predict exact cost of the pizza if the exact size is given. As we are interested in value, this is an example of regression analysis."
   ]
  },
  {
   "cell_type": "markdown",
   "metadata": {
    "collapsed": true
   },
   "source": [
    "#### Supervised Learning \n",
    "Regression analysis is a supervised machine learning techique. So we need a training data. Lets assume we have a toy data:\n",
    "<img src=\"Images/Toy_data.jpg\" width=\"70%\">"
   ]
  },
  {
   "cell_type": "code",
   "execution_count": null,
   "metadata": {
    "collapsed": true
   },
   "outputs": [],
   "source": [
    "import warnings\n",
    "warnings.filterwarnings('ignore')"
   ]
  },
  {
   "cell_type": "markdown",
   "metadata": {},
   "source": [
    "As the data set is of very small size, lets hardcode the values of X and y"
   ]
  },
  {
   "cell_type": "code",
   "execution_count": null,
   "metadata": {
    "collapsed": true
   },
   "outputs": [],
   "source": [
    "X = [[6], [8], [10], [14], [18]]\n",
    "y = [[7], [9], [13], [17.5], [18]]"
   ]
  },
  {
   "cell_type": "code",
   "execution_count": null,
   "metadata": {
    "collapsed": true
   },
   "outputs": [],
   "source": [
    "import matplotlib.pyplot as plt\n",
    "%matplotlib inline"
   ]
  },
  {
   "cell_type": "code",
   "execution_count": null,
   "metadata": {
    "collapsed": false
   },
   "outputs": [],
   "source": [
    "plt.figure()\n",
    "plt.title('Pizza price plotted against diameter')\n",
    "plt.xlabel('Diameter in inches')\n",
    "plt.ylabel('Price in dollars')\n",
    "plt.plot(X, y, 'k.')\n",
    "plt.axis([0, 25, 0, 25])\n",
    "plt.grid(True)\n",
    "plt.show()"
   ]
  },
  {
   "cell_type": "markdown",
   "metadata": {},
   "source": [
    "# Simple Linear Regression with one variable "
   ]
  },
  {
   "cell_type": "code",
   "execution_count": null,
   "metadata": {
    "collapsed": true
   },
   "outputs": [],
   "source": [
    "from sklearn.linear_model import LinearRegression\n",
    "model = LinearRegression()"
   ]
  },
  {
   "cell_type": "code",
   "execution_count": null,
   "metadata": {
    "collapsed": false
   },
   "outputs": [],
   "source": [
    "model.fit(X, y)"
   ]
  },
  {
   "cell_type": "code",
   "execution_count": null,
   "metadata": {
    "collapsed": false
   },
   "outputs": [],
   "source": [
    "plt.figure()\n",
    "plt.title('Pizza price plotted against diameter')\n",
    "plt.xlabel('Diameter in inches')\n",
    "plt.ylabel('Price in dollars')\n",
    "plt.plot(X, y, 'k.')\n",
    "plt.plot(X, model.predict(X),'g')\n",
    "plt.axis([0, 25, 0, 25])\n",
    "plt.grid(True)\n",
    "plt.show()"
   ]
  },
  {
   "cell_type": "markdown",
   "metadata": {},
   "source": [
    "## Your first Machine Learning App is ready  "
   ]
  },
  {
   "cell_type": "code",
   "execution_count": null,
   "metadata": {
    "collapsed": false
   },
   "outputs": [],
   "source": [
    "from IPython.html import widgets\n",
    "from IPython.html.widgets import interact\n",
    "from IPython.display import display\n",
    "import warnings\n",
    "warnings.filterwarnings('ignore')"
   ]
  },
  {
   "cell_type": "code",
   "execution_count": null,
   "metadata": {
    "collapsed": false
   },
   "outputs": [],
   "source": [
    "def PrzzaPricePredictor(dia):\n",
    "    print ('A %d \" pizza should cost: $%.2f'%(dia,model.predict([dia])[0]))"
   ]
  },
  {
   "cell_type": "code",
   "execution_count": null,
   "metadata": {
    "collapsed": false
   },
   "outputs": [],
   "source": [
    "i = interact(PrzzaPricePredictor, dia=(0,100))"
   ]
  },
  {
   "cell_type": "markdown",
   "metadata": {},
   "source": [
    "## How good is your model ?\n",
    "\n",
    "<img src=\"Images/Resedual_Error.jpg\" width=\"80%\">\n",
    "\n",
    "\n",
    "\n"
   ]
  },
  {
   "cell_type": "code",
   "execution_count": null,
   "metadata": {
    "collapsed": false
   },
   "outputs": [],
   "source": [
    "import numpy as np\n",
    "print ('Residual sum of squares: %.2f' % np.mean((model.predict(X)- y) ** 2))"
   ]
  },
  {
   "cell_type": "markdown",
   "metadata": {},
   "source": [
    "### Evaluating the model on Test Dataset \n",
    "\n",
    "Suppose that you applied this model to a test dataset as shown below:\n",
    "<img src=\"Images/Toy_data_test.jpg\" width=\"70%\">\n",
    "\n"
   ]
  },
  {
   "cell_type": "code",
   "execution_count": null,
   "metadata": {
    "collapsed": true
   },
   "outputs": [],
   "source": [
    "X_test = [[8], [9], [11], [16], [12]]\n",
    "y_test = [[11], [8.5], [15], [18], [11]]\n"
   ]
  },
  {
   "cell_type": "code",
   "execution_count": null,
   "metadata": {
    "collapsed": false
   },
   "outputs": [],
   "source": [
    "print ('Residual sum of squares: %.2f' % np.mean((model.predict(X_test)- y_test) ** 2))"
   ]
  },
  {
   "cell_type": "markdown",
   "metadata": {},
   "source": [
    "## Multiple linear regression\n",
    "Using your personal experience, you might have some intuitions that the cost of the Pizza is not oly dependent on the size but also on other factors like 'nunber of toppings'. So, lets assume that you asked for more data.\n",
    "\n",
    "<img src=\"Images/Toy_data2.jpg\" width=\"80%\">"
   ]
  },
  {
   "cell_type": "markdown",
   "metadata": {},
   "source": [
    "Now, the X would have two columns."
   ]
  },
  {
   "cell_type": "code",
   "execution_count": null,
   "metadata": {
    "collapsed": true
   },
   "outputs": [],
   "source": [
    "X = [[6, 2], [8, 1], [10, 0], [14, 2], [18, 0]]\n",
    "y = [[7], [9], [13], [17.5], [18]]"
   ]
  },
  {
   "cell_type": "markdown",
   "metadata": {},
   "source": [
    "### Here we would use the same model designed earlier, only difference is your X is having two columns "
   ]
  },
  {
   "cell_type": "code",
   "execution_count": null,
   "metadata": {
    "collapsed": false
   },
   "outputs": [],
   "source": [
    "model.fit(X, y)"
   ]
  },
  {
   "cell_type": "code",
   "execution_count": null,
   "metadata": {
    "collapsed": true
   },
   "outputs": [],
   "source": [
    "def PrzzaTopPricePredictor(dia,Top):\n",
    "    print ('A %d \" with %d Topping pizza should cost: $%.2f'%(dia, Top,model.predict([dia,Top])))"
   ]
  },
  {
   "cell_type": "markdown",
   "metadata": {},
   "source": [
    "### New App would look like this"
   ]
  },
  {
   "cell_type": "code",
   "execution_count": null,
   "metadata": {
    "collapsed": false
   },
   "outputs": [],
   "source": [
    "i = interact(PrzzaTopPricePredictor, dia=(0,100), Top=(0,5))"
   ]
  },
  {
   "cell_type": "markdown",
   "metadata": {},
   "source": [
    "### Evaluating the fitness of a model with a cost function"
   ]
  },
  {
   "cell_type": "code",
   "execution_count": null,
   "metadata": {
    "collapsed": false
   },
   "outputs": [],
   "source": [
    "print ('Residual sum of squares: %.2f' % np.mean((model.predict(X)- y) ** 2))"
   ]
  },
  {
   "cell_type": "markdown",
   "metadata": {},
   "source": [
    "## Polynomial regression"
   ]
  },
  {
   "cell_type": "code",
   "execution_count": null,
   "metadata": {
    "collapsed": true
   },
   "outputs": [],
   "source": [
    "import numpy as np\n",
    "from sklearn.preprocessing import PolynomialFeatures"
   ]
  },
  {
   "cell_type": "code",
   "execution_count": null,
   "metadata": {
    "collapsed": true
   },
   "outputs": [],
   "source": [
    "def PolynomialRegression(degree):\n",
    "    \n",
    "    X = [[6], [8], [10], [14], [18]]\n",
    "    y = [[7], [9], [13], [17.5], [18]]\n",
    "    \n",
    "    # Simple linear regression first\n",
    "    regressor = LinearRegression()\n",
    "    regressor.fit(X, y)\n",
    "    xx = np.linspace(0, 26, 100)\n",
    "    yy = regressor.predict(xx.reshape(xx.shape[0], 1))\n",
    "    \n",
    "    quadratic_featurizer = PolynomialFeatures(degree)\n",
    "    X_quadratic = quadratic_featurizer.fit_transform(X)\n",
    "    \n",
    "    regressor_quadratic = LinearRegression()\n",
    "    regressor_quadratic.fit(X_quadratic, y)\n",
    "    xx_quadratic = quadratic_featurizer.transform(xx.reshape(xx.shape[0], 1))\n",
    "    \n",
    "    print ('Residual sum of squares: %.2f' % np.mean(( regressor_quadratic.predict(X_quadratic)- y) ** 2))\n",
    "    \n",
    "    plt.plot(xx, yy)\n",
    "    plt.plot(xx, regressor_quadratic.predict(xx_quadratic), c='r',linestyle='--')\n",
    "    plt.title('Pizza price regressed on diameter')\n",
    "    plt.xlabel('Diameter in inches')\n",
    "    plt.ylabel('Price in dollars')\n",
    "    plt.axis([0, 25, 0, 25])\n",
    "    plt.grid(True)\n",
    "    plt.scatter(X,y)\n",
    "    plt.show()\n",
    "\n",
    "    \n",
    "    "
   ]
  },
  {
   "cell_type": "code",
   "execution_count": null,
   "metadata": {
    "collapsed": false
   },
   "outputs": [],
   "source": [
    "i = interact(PolynomialRegression, degree=(0,10))"
   ]
  },
  {
   "cell_type": "markdown",
   "metadata": {},
   "source": [
    "# Which Model to Use ?\n",
    "\n",
    "<img src=\"Images/Stay_Tuned.jpg\" width=\"50%\">"
   ]
  }
 ],
 "metadata": {
  "anaconda-cloud": {},
  "kernelspec": {
   "display_name": "Python [default]",
   "language": "python",
   "name": "python3"
  },
  "language_info": {
   "codemirror_mode": {
    "name": "ipython",
    "version": 3
   },
   "file_extension": ".py",
   "mimetype": "text/x-python",
   "name": "python",
   "nbconvert_exporter": "python",
   "pygments_lexer": "ipython3",
   "version": "3.5.2"
  },
  "widgets": {
   "state": {
    "0292cac016c74d0f9a0e1b3b8265fdbb": {
     "views": [
      {
       "cell_index": 35
      }
     ]
    },
    "910cbedca8cb469a84413e51a0e1eb97": {
     "views": [
      {
       "cell_index": 16
      }
     ]
    },
    "b25f887dd27647d1982708be6fa12651": {
     "views": [
      {
       "cell_index": 29
      }
     ]
    }
   },
   "version": "1.2.0"
  }
 },
 "nbformat": 4,
 "nbformat_minor": 0
}
