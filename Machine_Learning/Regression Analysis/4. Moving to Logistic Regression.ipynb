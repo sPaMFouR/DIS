{
 "cells": [
  {
   "cell_type": "markdown",
   "metadata": {
    "collapsed": true
   },
   "source": [
    "Logistic Regression \n",
    "===========\n",
    "***\n",
    "\n",
    "\n"
   ]
  },
  {
   "cell_type": "code",
   "execution_count": null,
   "metadata": {
    "collapsed": true
   },
   "outputs": [],
   "source": [
    "import warnings\n",
    "warnings.filterwarnings('ignore')\n",
    "import numpy as np\n",
    "import pandas as pd"
   ]
  },
  {
   "cell_type": "markdown",
   "metadata": {
    "collapsed": true
   },
   "source": [
    "### Linear Regression on Loan Data\n"
   ]
  },
  {
   "cell_type": "code",
   "execution_count": null,
   "metadata": {
    "collapsed": false
   },
   "outputs": [],
   "source": [
    "# import the cleaned up dataset\n",
    "df = pd.read_csv('./Datasets/loanf.csv')\n",
    "df.head()"
   ]
  },
  {
   "cell_type": "markdown",
   "metadata": {},
   "source": [
    "Can we predict interest rates from given loan details ?"
   ]
  },
  {
   "cell_type": "markdown",
   "metadata": {},
   "source": [
    "### Asumptions\n",
    "\n",
    "FICO Score and Loan Amount as predictors of Interest Rate for the Lending Club sample of 2,500 loans._\n",
    "\n",
    "We use Multivariate Linear Regression to model Interest Rate variance with FICO Score and Loan Amount using:\n",
    "\n",
    "$$InterestRate = a_0 + a_1 * FICOScore + a_2 * LoanAmount$$\n",
    "\n",
    "We're going to use modeling software to generate the model coefficients $a_0$, $a_1$ and $a_2$ and then some error estimates that we'll only touch upon lightly at this point. \n"
   ]
  },
  {
   "cell_type": "code",
   "execution_count": null,
   "metadata": {
    "collapsed": false
   },
   "outputs": [],
   "source": [
    "X = df[['FICO.Score', 'Loan.Amount']].values\n",
    "y = df['Interest.Rate'].values\n",
    "\n",
    "y=y.reshape((2500,1))\n",
    "X.shape\n",
    "y.shape"
   ]
  },
  {
   "cell_type": "code",
   "execution_count": null,
   "metadata": {
    "collapsed": false
   },
   "outputs": [],
   "source": [
    "from sklearn.linear_model import LinearRegression\n",
    "model =LinearRegression() \n",
    "model.fit(X,y)"
   ]
  },
  {
   "cell_type": "code",
   "execution_count": null,
   "metadata": {
    "collapsed": true
   },
   "outputs": [],
   "source": [
    "import warnings\n",
    "warnings.filterwarnings('ignore')"
   ]
  },
  {
   "cell_type": "code",
   "execution_count": null,
   "metadata": {
    "collapsed": true
   },
   "outputs": [],
   "source": [
    "def InterestRatePredictor(FICO,Loan):\n",
    "    print ('Interest Rate for load amount %d with FICO score %d is: %.2f Percent'%(Loan,FICO,model.predict([FICO,Loan])))"
   ]
  },
  {
   "cell_type": "code",
   "execution_count": null,
   "metadata": {
    "collapsed": false
   },
   "outputs": [],
   "source": [
    "from IPython.html import widgets\n",
    "from IPython.html.widgets import interact\n",
    "from IPython.display import display\n",
    "i = interact(InterestRatePredictor, FICO=(665,800), Loan=(6000,22000))"
   ]
  },
  {
   "cell_type": "markdown",
   "metadata": {},
   "source": [
    "# Moving to Logistic Regression"
   ]
  },
  {
   "cell_type": "markdown",
   "metadata": {},
   "source": [
    "##### _Can we get a loan, from the Lending Club, of 10,000 dollars at 12 per cent or less, with a FICO Score of 720?_"
   ]
  },
  {
   "cell_type": "markdown",
   "metadata": {},
   "source": [
    "\n",
    "\n",
    "#### _What is the probability of getting a Loan, from the Lending Club, of 10,000 dollars at 12 per cent or less with a FICO Score of 720?_  \n",
    "\n"
   ]
  },
  {
   "cell_type": "markdown",
   "metadata": {},
   "source": [
    "From initial discussion we say we want to start with a model of the form\n",
    "\n",
    "$ Interest Rate = a_0 + a_1*FICOScore + a_2*LoanAmount $\n",
    "\n",
    "And the derive a second equation of the form:\n",
    "\n",
    "Z = Prob (InterestRate less than 12 percent).\n",
    "\n",
    "We apply this to the existing dataset and create a Logistic Regression Model using modeling software."
   ]
  },
  {
   "cell_type": "markdown",
   "metadata": {},
   "source": [
    "### Analysis\n",
    "\n",
    "As with the Linear Regression Model, we use the cleaned up Lending Club data set as input."
   ]
  },
  {
   "cell_type": "code",
   "execution_count": null,
   "metadata": {
    "collapsed": false
   },
   "outputs": [],
   "source": [
    "import pandas as pd\n",
    "dfr = pd.read_csv('./Datasets/loanf.csv')\n",
    "dfr.head()"
   ]
  },
  {
   "cell_type": "code",
   "execution_count": null,
   "metadata": {
    "collapsed": false
   },
   "outputs": [],
   "source": [
    "# we add a column which indicates (True/False) whether the interest rate is <= 12 \n",
    "dfr['TF']=dfr['Interest.Rate']<=12\n",
    "# inspect again\n",
    "dfr.head()\n",
    "# we see that the TF values are False as Interest.Rate is higher than 12 in all these cases"
   ]
  },
  {
   "cell_type": "code",
   "execution_count": null,
   "metadata": {
    "collapsed": false
   },
   "outputs": [],
   "source": [
    "# now we check the rows that have interest rate == 10 (just some number < 12)\n",
    "# this is just to confirm that the TF value is True where we expect it to be\n",
    "d = dfr[dfr['Interest.Rate']==10]\n",
    "d.head()\n",
    "# all is well"
   ]
  },
  {
   "cell_type": "code",
   "execution_count": null,
   "metadata": {
    "collapsed": true
   },
   "outputs": [],
   "source": [
    "X = dfr[['FICO.Score', 'Loan.Amount']].values\n",
    "y = dfr['TF'].values"
   ]
  },
  {
   "cell_type": "code",
   "execution_count": null,
   "metadata": {
    "collapsed": true
   },
   "outputs": [],
   "source": [
    "from sklearn.linear_model import LogisticRegression\n"
   ]
  },
  {
   "cell_type": "code",
   "execution_count": null,
   "metadata": {
    "collapsed": false
   },
   "outputs": [],
   "source": [
    "model = LogisticRegression()\n",
    "model.fit(X,y)\n",
    "print('Logistic Regression model')"
   ]
  },
  {
   "cell_type": "code",
   "execution_count": null,
   "metadata": {
    "collapsed": true
   },
   "outputs": [],
   "source": [
    "def Loan_Approvar(FICO,Loan):\n",
    "    a=model.predict_proba([FICO,Loan])\n",
    "    if (a[0,1]>0.5):\n",
    "        \n",
    "        print('Loan Approved')\n",
    "    else:\n",
    "            \n",
    "        print('Loan Rejected')"
   ]
  },
  {
   "cell_type": "code",
   "execution_count": null,
   "metadata": {
    "collapsed": false
   },
   "outputs": [],
   "source": [
    "i = interact(Loan_Approvar, FICO=(665,800), Loan=(6000,22000))"
   ]
  },
  {
   "cell_type": "code",
   "execution_count": null,
   "metadata": {
    "collapsed": false
   },
   "outputs": [],
   "source": [
    "Index=3\n",
    "\n",
    "a=model.predict_proba(X[Index])\n",
    "print(a)\n",
    "\n",
    "b=model.predict(X[Index])\n",
    "print(b)"
   ]
  }
 ],
 "metadata": {
  "anaconda-cloud": {},
  "kernelspec": {
   "display_name": "Python [default]",
   "language": "python",
   "name": "python3"
  },
  "language_info": {
   "codemirror_mode": {
    "name": "ipython",
    "version": 3
   },
   "file_extension": ".py",
   "mimetype": "text/x-python",
   "name": "python",
   "nbconvert_exporter": "python",
   "pygments_lexer": "ipython3",
   "version": "3.5.2"
  },
  "widgets": {
   "state": {
    "43b7f71c982c4171b47a2a3bd6585690": {
     "views": [
      {
       "cell_index": 23
      }
     ]
    },
    "c1b97b176d254bbdafc73f6dbb119eca": {
     "views": [
      {
       "cell_index": 10
      }
     ]
    }
   },
   "version": "1.2.0"
  }
 },
 "nbformat": 4,
 "nbformat_minor": 0
}
