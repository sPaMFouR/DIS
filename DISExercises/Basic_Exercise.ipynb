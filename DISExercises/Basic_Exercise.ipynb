{
 "cells": [
  {
   "cell_type": "markdown",
   "metadata": {
    "deletable": true,
    "editable": true
   },
   "source": [
    "# Basic Exercise"
   ]
  },
  {
   "cell_type": "markdown",
   "metadata": {
    "deletable": true,
    "editable": true
   },
   "source": [
    "# Problem 1"
   ]
  },
  {
   "cell_type": "code",
   "execution_count": 6,
   "metadata": {
    "collapsed": false,
    "deletable": true,
    "editable": true
   },
   "outputs": [
    {
     "name": "stdout",
     "output_type": "stream",
     "text": [
      "Original Vector: [0 1 2 3 4 5 6 7 8]\n",
      "Reverse Vector: [8 7 6 5 4 3 2 1 0]\n",
      "Reshaped 3x3 Matrix: \n",
      "[[0 1 2]\n",
      " [3 4 5]\n",
      " [6 7 8]]\n"
     ]
    }
   ],
   "source": [
    "import numpy as np\n",
    "\n",
    "vector = np.arange(0, 8 + 1, 1)\n",
    "\n",
    "print(\"Original Vector: {0}\".format(vector))\n",
    "print(\"Reverse Vector: {0}\".format(vector[::-1]))\n",
    "print(\"Reshaped 3x3 Matrix: \\n{0}\".format(np.reshape(vector, (3,3))))"
   ]
  },
  {
   "cell_type": "markdown",
   "metadata": {
    "deletable": true,
    "editable": true
   },
   "source": [
    "# Problem 2"
   ]
  },
  {
   "cell_type": "code",
   "execution_count": 17,
   "metadata": {
    "collapsed": false,
    "deletable": true,
    "editable": true
   },
   "outputs": [
    {
     "name": "stdout",
     "output_type": "stream",
     "text": [
      "Identity Matrix: \n",
      "[[ 1.  0.  0.  0.]\n",
      " [ 0.  1.  0.  0.]\n",
      " [ 0.  0.  1.  0.]\n",
      " [ 0.  0.  0.  1.]]\n",
      "\n",
      "Non-Zero Elements Are: [(0, 0), (1, 1), (2, 2), (3, 3)]\n"
     ]
    }
   ],
   "source": [
    "import numpy as np\n",
    "\n",
    "id_matrix = np.eye(4)\n",
    "\n",
    "print(\"Identity Matrix: \\n{0}\\n\".format(id_matrix))\n",
    "print(\"Non-Zero Elements Are: {0}\".format(list(zip(*np.nonzero(id_matrix)))))"
   ]
  },
  {
   "cell_type": "markdown",
   "metadata": {
    "deletable": true,
    "editable": true
   },
   "source": [
    "# Problem 3"
   ]
  },
  {
   "cell_type": "code",
   "execution_count": 24,
   "metadata": {
    "collapsed": false,
    "deletable": true,
    "editable": true
   },
   "outputs": [
    {
     "name": "stdout",
     "output_type": "stream",
     "text": [
      "Enter A Number: \n",
      "The 3x3 Matrix Containing The User Input Number Is: \n",
      "[[ 8.  8.  8.]\n",
      " [ 8.  8.  8.]\n",
      " [ 8.  8.  8.]]\n"
     ]
    }
   ],
   "source": [
    "import numpy as np\n",
    "\n",
    "number = int(input(\"Enter A Number: \") or '8')\n",
    "\n",
    "matrix = np.empty((3,3), dtype=float)\n",
    "matrix[:, :] = number\n",
    "print(\"The 3x3 Matrix Containing The User Input Number Is: \\n{0}\".format(matrix))"
   ]
  },
  {
   "cell_type": "markdown",
   "metadata": {
    "deletable": true,
    "editable": true
   },
   "source": [
    "# Problem 4"
   ]
  },
  {
   "cell_type": "code",
   "execution_count": 40,
   "metadata": {
    "collapsed": false,
    "deletable": true,
    "editable": true
   },
   "outputs": [
    {
     "name": "stdout",
     "output_type": "stream",
     "text": [
      "The Randomly Generated 2x2 Matrix Is: \n",
      "[[ 62.59177838  91.97235879]\n",
      " [ 44.77750919  92.80274903]]\n"
     ]
    }
   ],
   "source": [
    "import numpy as np\n",
    "\n",
    "matrix = 100 * np.random.rand(2, 2)\n",
    "print(\"The Randomly Generated 2x2 Matrix Is: \\n{0}\".format(matrix))"
   ]
  },
  {
   "cell_type": "markdown",
   "metadata": {
    "deletable": true,
    "editable": true
   },
   "source": [
    "# Problem 5"
   ]
  },
  {
   "cell_type": "code",
   "execution_count": 55,
   "metadata": {
    "collapsed": false,
    "deletable": true,
    "editable": true
   },
   "outputs": [
    {
     "name": "stdout",
     "output_type": "stream",
     "text": [
      "The 1st Patterned Matrix Is: \n",
      "[[ 0.  0.  0.  0.  0.]\n",
      " [ 1.  0.  0.  0.  0.]\n",
      " [ 0.  2.  0.  0.  0.]\n",
      " [ 0.  0.  3.  0.  0.]\n",
      " [ 0.  0.  0.  4.  0.]]\n",
      "The 2nd Patterned Matrix Is: \n",
      "[[ 0.  1.  0.  1.]\n",
      " [ 1.  0.  1.  0.]\n",
      " [ 0.  1.  0.  1.]\n",
      " [ 1.  0.  1.  0.]]\n"
     ]
    }
   ],
   "source": [
    "import numpy as np\n",
    "\n",
    "matrix_1 = np.zeros((5, 5))\n",
    "for i in range(0, matrix_1[0, :].size):\n",
    "    matrix_1[i, i - 1] = i\n",
    "\n",
    "matrix_2 = np.zeros((4, 4))\n",
    "for i in range(0, matrix_2[0, :].size):\n",
    "    for j in range(0, matrix_2[:, 0].size):\n",
    "        if int((i + j) % 2) == 1:\n",
    "            matrix_2[i, j] = 1\n",
    "        \n",
    "print(\"The 1st Patterned Matrix Is: \\n{0}\".format(matrix_1))\n",
    "print(\"The 2nd Patterned Matrix Is: \\n{0}\".format(matrix_2))"
   ]
  },
  {
   "cell_type": "markdown",
   "metadata": {
    "deletable": true,
    "editable": true
   },
   "source": [
    "# Problem 6"
   ]
  },
  {
   "cell_type": "code",
   "execution_count": 86,
   "metadata": {
    "collapsed": false,
    "deletable": true,
    "editable": true
   },
   "outputs": [
    {
     "name": "stdout",
     "output_type": "stream",
     "text": [
      "[[ 1.  0.  0.]\n",
      " [ 0.  1.  0.]\n",
      " [ 0.  0.  1.]]\n",
      "3\n"
     ]
    }
   ],
   "source": [
    "import numpy as np\n",
    "from numpy.linalg import matrix_rank\n",
    "\n",
    "matrix = np.eye(3)\n",
    "print(matrix)\n",
    "print(matrix_rank(matrix))"
   ]
  },
  {
   "cell_type": "markdown",
   "metadata": {
    "deletable": true,
    "editable": true
   },
   "source": [
    "# Problem 7"
   ]
  },
  {
   "cell_type": "code",
   "execution_count": 85,
   "metadata": {
    "collapsed": false,
    "deletable": true,
    "editable": true
   },
   "outputs": [
    {
     "name": "stdout",
     "output_type": "stream",
     "text": [
      "The Original Array Is: [ 9 12 15 18 21]\n",
      "The Modified Array Is: [ 9  0  0  0 12  0  0  0 15  0  0  0 18  0  0  0 21]\n"
     ]
    }
   ],
   "source": [
    "import numpy as np\n",
    "array_1 = 3 * np.arange(3, 8, 1)\n",
    "\n",
    "array_2 = array_1\n",
    "for index in range(0, len(array_1) - 1):\n",
    "    array_2 = np.insert(array_2, 4 * index + 1, (0, 0, 0))\n",
    "# array_2 = np.insert(array_1, list(range(1, len(array_1) - 1)), [(0, 0, 0)])\n",
    "\n",
    "print(\"The Original Array Is: {0}\".format(array_1))\n",
    "print(\"The Modified Array Is: {0}\".format(array_2))"
   ]
  },
  {
   "cell_type": "markdown",
   "metadata": {
    "deletable": true,
    "editable": true
   },
   "source": [
    "# Problem 8"
   ]
  },
  {
   "cell_type": "code",
   "execution_count": 46,
   "metadata": {
    "collapsed": false,
    "deletable": true,
    "editable": true
   },
   "outputs": [
    {
     "name": "stdout",
     "output_type": "stream",
     "text": [
      "Original Matrix: \n",
      "[[9 0 9 1 6]\n",
      " [2 7 4 6 8]\n",
      " [3 7 5 3 1]\n",
      " [1 5 6 2 7]\n",
      " [1 1 1 0 0]]\n",
      "Matrix Excluding First & Last Row: \n",
      "[[2 7 4 6 8]\n",
      " [3 7 5 3 1]\n",
      " [1 5 6 2 7]]\n",
      "Matrix Excluding First & Last Columns: \n",
      "[[0 9 1]\n",
      " [7 4 6]\n",
      " [7 5 3]\n",
      " [5 6 2]\n",
      " [1 1 0]]\n"
     ]
    }
   ],
   "source": [
    "matrix = 10 * np.random.rand(5, 5)\n",
    "matrix = matrix.astype(np.int64)\n",
    "print(\"Original Matrix: \\n{0}\".format(matrix))\n",
    "print(\"Matrix Excluding First & Last Row: \\n{0}\".format(matrix[1:-1, :]))\n",
    "print(\"Matrix Excluding First & Last Columns: \\n{0}\".format(matrix[:, 1:-1]))\n"
   ]
  },
  {
   "cell_type": "code",
   "execution_count": null,
   "metadata": {
    "collapsed": true,
    "deletable": true,
    "editable": true
   },
   "outputs": [],
   "source": []
  }
 ],
 "metadata": {
  "kernelspec": {
   "display_name": "Python 3",
   "language": "python",
   "name": "python3"
  },
  "language_info": {
   "codemirror_mode": {
    "name": "ipython",
    "version": 3
   },
   "file_extension": ".py",
   "mimetype": "text/x-python",
   "name": "python",
   "nbconvert_exporter": "python",
   "pygments_lexer": "ipython3",
   "version": "3.6.0"
  }
 },
 "nbformat": 4,
 "nbformat_minor": 2
}
