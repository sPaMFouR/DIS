{
 "cells": [
  {
   "cell_type": "markdown",
   "metadata": {},
   "source": [
    "EXERCISE 1\n",
    "==="
   ]
  },
  {
   "cell_type": "markdown",
   "metadata": {},
   "source": [
    "# Problem 1\n",
    "\n"
   ]
  },
  {
   "cell_type": "markdown",
   "metadata": {},
   "source": [
    "Write a program to generate N random integers, where the number N should be\n",
    "accepted from the user through the keyboard. You will need the \"random\" module\n",
    "for this. Can you find the suitable function inside this module that can serve\n",
    "your purpose?"
   ]
  },
  {
   "cell_type": "code",
   "execution_count": 66,
   "metadata": {},
   "outputs": [
    {
     "name": "stdout",
     "output_type": "stream",
     "text": [
      "Enter The Number Of Random Numbers To Be Generated: 8\n",
      "\n",
      "The 8 Random Numbers Generated Are: \n",
      "[377, 52, 83, 26, 167, 231, 371, 172]\n"
     ]
    }
   ],
   "source": [
    "import random\n",
    "\n",
    "while True:\n",
    "    try:\n",
    "        num_randNum = int(float(input(\"Enter The Number Of Random Numbers To Be Generated: \") or '10'))\n",
    "    except ValueError:\n",
    "        print(\"\\n*ERROR: The User Input Is Not A Number*\\n\")\n",
    "    else:\n",
    "        break\n",
    "\n",
    "print(\"\\nThe {0} Random Numbers Generated Are: \".format(num_randNum))\n",
    "print(random.sample(population=list(range(50 * num_randNum)), k=num_randNum))\n",
    "\n",
    "# count = 0\n",
    "# while count != num_randNum:\n",
    "#     print(int(100 * random.random()), end= ' ')\n",
    "#     count += 1"
   ]
  },
  {
   "cell_type": "markdown",
   "metadata": {},
   "source": [
    "# Problem 2"
   ]
  },
  {
   "cell_type": "markdown",
   "metadata": {},
   "source": [
    "You already have seen in the lectures a code on how to compute the mean of N\n",
    "numbers. Go ahead and modify that code to make it compute the median and the\n",
    "standard deviation."
   ]
  },
  {
   "cell_type": "code",
   "execution_count": 78,
   "metadata": {},
   "outputs": [
    {
     "name": "stdout",
     "output_type": "stream",
     "text": [
      "#--- Enter A Series Of Numbers To Calculate Median ---#\n",
      "\n",
      "Enter A Number (Or 'Stop'): 1\n",
      "Enter A Number (Or 'Stop'): 2\n",
      "Enter A Number (Or 'Stop'): 3\n",
      "Enter A Number (Or 'Stop'): 4\n",
      "Enter A Number (Or 'Stop'): \n",
      "Median Is 2.5\n"
     ]
    }
   ],
   "source": [
    "print(\"#--- Enter A Series Of Numbers To Calculate Median ---#\\n\")\n",
    "\n",
    "list_num = []\n",
    "while True:\n",
    "    input_num = input(\"Enter A Number (Or 'Stop'): \").strip().lower()\n",
    "    if input_num != 'stop' and input_num != '':\n",
    "        try:\n",
    "            list_num.append(float(input_num))\n",
    "        except ValueError:\n",
    "            print(\"*ERROR: The User Input Is Neither A Number Nor 'stop'*\")\n",
    "    else:\n",
    "        list_num.sort()\n",
    "        break\n",
    "\n",
    "def calc_median(input_list):\n",
    "    length = len(input_list)\n",
    "    if length % 2 == 1:\n",
    "        median = input_list[int((length - 1) / 2)]\n",
    "    else:\n",
    "        median = sum(input_list[(int(length / 2)) - 1: int((length / 2)) + 1]) / 2\n",
    "    \n",
    "    return median\n",
    "\n",
    "if len(list_num) != 0:\n",
    "    print(\"Median Is {0}\".format(calc_median(list_num)))\n",
    "else:\n",
    "    print(\"\\n*Don't Try To Fool With The Code. Atleast 1 Number Required To Calculate Median*\")"
   ]
  },
  {
   "cell_type": "markdown",
   "metadata": {},
   "source": [
    "# Problem 3\n"
   ]
  },
  {
   "cell_type": "markdown",
   "metadata": {},
   "source": [
    "Read the file 'students.txt' provided with this exercise. The file contains in\n",
    "the first column a student ID and the rest of the columns contain the name, age,\n",
    "gender and grade. Write a program to read this file into a dictionary with the\n",
    "student ID serving as a key and the other values as the 'value' in the form of a\n",
    "list. Next, ask the user for a student ID and if present, return a neatly\n",
    "formatted record of the student from the dictionary else a suitable message."
   ]
  },
  {
   "cell_type": "code",
   "execution_count": 10,
   "metadata": {},
   "outputs": [
    {
     "name": "stdout",
     "output_type": "stream",
     "text": [
      "Enter The File With Student Data: students.txt\n",
      "Enter The Student ID To Get Details: ID15\n",
      "----------------------------------------\n",
      "Student ID - ID15: Details - Student15, 17, M, A\n",
      "----------------------------------------\n",
      "\n",
      "Enter The Student ID To Get Details: ID1\n",
      "----------------------------------------\n",
      "Student ID - ID1: Details - Student1, 17, M, B\n",
      "----------------------------------------\n",
      "\n",
      "Enter The Student ID To Get Details: ID23\n",
      "\n",
      "*ERROR: Student ID - 'ID23' Not Present In File 'students.txt'*\n",
      "\n",
      "Enter The Student ID To Get Details: stop\n"
     ]
    }
   ],
   "source": [
    "file_name = input(\"Enter The File With Student Data: \") or 'students.txt'\n",
    "\n",
    "list_lines = []\n",
    "with open(str(file_name.strip()), 'r') as fin:\n",
    "    for line in fin:\n",
    "        if not line.startswith(\"#\") and not line.startswith(\" \") and not line.startswith(\"\\n\"):\n",
    "            list_lines.append(line.rstrip())\n",
    "\n",
    "\n",
    "def read_columns(line_list, col_index, delimit=' '):\n",
    "    col_list = []\n",
    "    for row in range(0, len(line_list)):\n",
    "        col_list.append(line_list[row].split(delimit)[col_index])\n",
    "    return col_list\n",
    "\n",
    "def read_restcol(line_list, delimit=' '):\n",
    "    list_data = []\n",
    "    rows = len(line_list)\n",
    "    columns = len(line_list[0].split())\n",
    "    list_data = []\n",
    "    for j in range(0, rows):\n",
    "        row_list = []\n",
    "        for index in range(1, columns):\n",
    "            row_list.append(line_list[j].split(delimit)[index])\n",
    "        list_data.append(row_list)\n",
    "    return list_data\n",
    "\n",
    "list_ID = read_columns(list_lines, 0, delimit=' ')\n",
    "list_restdata = read_restcol(list_lines, delimit=' ')\n",
    "\n",
    "dict_ID = {}\n",
    "for i in range(0, len(list_ID)):\n",
    "    dict_ID[list_ID[i]] = list_restdata[i]\n",
    "\n",
    "while True:\n",
    "    input_ID = input(\"Enter The Student ID To Get Details: \").upper()\n",
    "    if input_ID in dict_ID.keys():\n",
    "        print(\"\"\"----------------------------------------\\nStudent ID - {0}: Details - \"\"\".format(input_ID) + \n",
    "              \", \".join(dict_ID[input_ID]) + \"\\n----------------------------------------\\n\")\n",
    "    elif input_ID != 'STOP' and input_ID not in dict_ID.keys():\n",
    "        print(\"\\n*ERROR: Student ID - '{0}' Not Present In File '{1}'*\\n\".format(input_ID, file_name))\n",
    "    else:\n",
    "        break"
   ]
  },
  {
   "cell_type": "markdown",
   "metadata": {},
   "source": [
    "# Problem 4"
   ]
  },
  {
   "cell_type": "markdown",
   "metadata": {},
   "source": [
    "Write a program that accepts a number from the user and displays whether it is a\n",
    "prime or not. Ah! The classical problem. Must do!"
   ]
  },
  {
   "cell_type": "code",
   "execution_count": 83,
   "metadata": {},
   "outputs": [
    {
     "name": "stdout",
     "output_type": "stream",
     "text": [
      "Enter A Number: 11\n",
      "The Number '11' Is A Prime\n"
     ]
    }
   ],
   "source": [
    "while True:\n",
    "    try:\n",
    "        inp_number = int(input(\"Enter A Number: \"))\n",
    "    except ValueError:\n",
    "        print(\"\\n*ERROR: The User Input Is Not An Integer*\\n\")\n",
    "    else:\n",
    "        break\n",
    "\n",
    "prime = True\n",
    "if inp_number == 1:\n",
    "    print(\"The Number '{0}' Is Neither A Prime Nor A Composite\".format(inp_number))\n",
    "else:\n",
    "    closest_sqrt = int(inp_number ** 0.5)\n",
    "    for divisor in range(2, closest_sqrt + 1):\n",
    "        if inp_number % divisor == 0:\n",
    "            prime = False\n",
    "            break\n",
    "            \n",
    "if not prime:\n",
    "    print(\"The Number '{0}' Is Not A Prime\".format(inp_number))\n",
    "else:\n",
    "    print(\"The Number '{0}' Is A Prime\".format(inp_number))"
   ]
  },
  {
   "cell_type": "markdown",
   "metadata": {},
   "source": [
    "# Problem 5"
   ]
  },
  {
   "cell_type": "markdown",
   "metadata": {},
   "source": [
    "Write a program to check whether a number or a text is a palindrome or not. The\n",
    "word or the number should be accepted from the user and an appropriate message\n",
    "displayed. Too easy in Python. You should be able to do it in a minute or two if\n",
    "you know the logic."
   ]
  },
  {
   "cell_type": "code",
   "execution_count": 14,
   "metadata": {},
   "outputs": [
    {
     "name": "stdout",
     "output_type": "stream",
     "text": [
      "Enter A Text Or A Number: malayalam\n",
      "The Text 'malayalam' Is A Palindrome\n"
     ]
    }
   ],
   "source": [
    "# Check Whether A Number Or A Text Is A Palindrome Or Not\n",
    "\n",
    "user_input = input(\"Enter A Text Or A Number: \").lower()\n",
    "\n",
    "if user_input == user_input[::-1]:\n",
    "    print(\"The Text '{0}' Is A Palindrome\".format(user_input))\n",
    "else:\n",
    "    print(\"The Text '{0}' Is Not A Palindrome\".format(user_input))"
   ]
  },
  {
   "cell_type": "markdown",
   "metadata": {},
   "source": [
    "# Problem 6"
   ]
  },
  {
   "cell_type": "markdown",
   "metadata": {},
   "source": [
    "Write a program that accepts a file name and checks whether the file name is bad\n",
    "or not. A file is defined to be bad if it contains a space and other special\n",
    "symbols such as $,%,^,&,*,(,) and '.'."
   ]
  },
  {
   "cell_type": "code",
   "execution_count": 20,
   "metadata": {},
   "outputs": [
    {
     "name": "stdout",
     "output_type": "stream",
     "text": [
      "Enter A Filename: Crazy*%^_Data\n",
      "File Name Is Bad: Contains Symbols - [%, ^, *]\n"
     ]
    }
   ],
   "source": [
    "# Check File Names For Use Of Bad Characters Like Spaces, Dollar, Ampersand etc.\n",
    "\n",
    "file_name = input(\"Enter A Filename: \") or \"John's*^Data\"\n",
    "list_badsymb = [\" \", \"$\", \"%\", \"&\", \"^\", \"*\", \"(\", \")\", \".\", \"'\"]\n",
    "\n",
    "list_symbols = []\n",
    "for symbol in list_badsymb:\n",
    "    if file_name.count(symbol) != 0:\n",
    "        if symbol not in list_symbols:\n",
    "            list_symbols.append(symbol)\n",
    "\n",
    "if len(list_symbols) != 0:\n",
    "    print(\"File Name Is Bad: Contains Symbols - [\" + \", \".join(list_symbols) + \"]\")\n",
    "else:\n",
    "    print(\"File Name Is Good\")"
   ]
  },
  {
   "cell_type": "markdown",
   "metadata": {},
   "source": [
    "# Problem 7\n"
   ]
  },
  {
   "cell_type": "markdown",
   "metadata": {},
   "source": [
    "Accept a number N from the user and generate the following series:\n",
    "\n",
    "1\n",
    "\n",
    "2 2\n",
    "\n",
    "3 3 3\n",
    "\n",
    "4 4 4 4\n",
    "\n",
    "...\n",
    "N N N ... N times"
   ]
  },
  {
   "cell_type": "code",
   "execution_count": 86,
   "metadata": {},
   "outputs": [
    {
     "name": "stdout",
     "output_type": "stream",
     "text": [
      "Enter A Number: 9\n",
      "1 \n",
      "2 2 \n",
      "3 3 3 \n",
      "4 4 4 4 \n",
      "5 5 5 5 5 \n",
      "6 6 6 6 6 6 \n",
      "7 7 7 7 7 7 7 \n",
      "8 8 8 8 8 8 8 8 \n",
      "9 9 9 9 9 9 9 9 9 \n",
      "1 \n",
      "2 2 \n",
      "3 3 3 \n",
      "4 4 4 4 \n",
      "5 5 5 5 5 \n",
      "6 6 6 6 6 6 \n",
      "7 7 7 7 7 7 7 \n",
      "8 8 8 8 8 8 8 8 \n",
      "9 9 9 9 9 9 9 9 9 \n",
      "\n"
     ]
    }
   ],
   "source": [
    "while True:\n",
    "    try:\n",
    "        number = int(input(\"Enter A Number: \"))\n",
    "    except ValueError as err:\n",
    "        print(\"\\n*ERROR: {0} - The User Input Is Not A Number*\\n\".format(err))\n",
    "    else:\n",
    "        break\n",
    "\n",
    "pattern = ''\n",
    "for num in range(1, number + 1):\n",
    "    # print(\"{0} \".format(num) * num)\n",
    "    pattern += \"{0} \".format(num) * num + \"\\n\"\n",
    "\n",
    "print(pattern)"
   ]
  },
  {
   "cell_type": "markdown",
   "metadata": {},
   "source": [
    "# Problem 8"
   ]
  },
  {
   "cell_type": "markdown",
   "metadata": {},
   "source": [
    "Read numbers from a text file and print square of those numbe. You can make your\n",
    "own text file full of numbers for this.\n",
    "\n",
    "Comments: While a simple exercise, it demonstrates a subtle distinction of\n",
    "number numbers and string numbers."
   ]
  },
  {
   "cell_type": "code",
   "execution_count": 4,
   "metadata": {},
   "outputs": [
    {
     "name": "stdout",
     "output_type": "stream",
     "text": [
      "Enter The Filename: \n",
      " 62.00 Squared Is    3844.00\n",
      "232.00 Squared Is   53824.00\n",
      " 32.64 Squared Is    1065.37\n",
      "  2.32 Squared Is       5.38\n",
      " 42.32 Squared Is    1790.98\n",
      " 24.20 Squared Is     585.64\n",
      " 53.30 Squared Is    2840.89\n",
      "755.50 Squared Is  570780.25\n",
      " 22.33 Squared Is     498.63\n",
      "257.00 Squared Is   66049.00\n",
      " 33.00 Squared Is    1089.00\n",
      " 64.80 Squared Is    4199.04\n",
      " 75.90 Squared Is    5760.81\n",
      " 28.00 Squared Is     784.00\n",
      "200.00 Squared Is   40000.00\n",
      "653.00 Squared Is  426409.00\n"
     ]
    }
   ],
   "source": [
    "file_name = input(\"Enter The Filename: \") or 'prob8.txt'\n",
    "\n",
    "with open(str(file_name), 'r') as fin:\n",
    "    data_file = fin.read().split()\n",
    "\n",
    "for value in data_file:\n",
    "    print(\"{0:>6.2f} Squared Is {1:>10.2f}\".format(float(value), float(value) ** 2))"
   ]
  },
  {
   "cell_type": "markdown",
   "metadata": {},
   "source": [
    "# Problem 9"
   ]
  },
  {
   "cell_type": "markdown",
   "metadata": {},
   "source": [
    "You have a file which contains a bunch of readings from a thermometers.\n",
    "Unfortunately, depending on who added each reading, one writes it in Fahrenheit\n",
    "and the other writes in Celsius! And now we have a mixed data set. Thankfully,\n",
    "we are armed with the fact that these readings were all taken in a single month\n",
    "of 30 days. Thus there are 60 readings, two per each day. Now, write a program\n",
    "to make the units uniform."
   ]
  },
  {
   "cell_type": "code",
   "execution_count": 5,
   "metadata": {},
   "outputs": [
    {
     "name": "stdout",
     "output_type": "stream",
     "text": [
      "Enter The File With Temperature Data: \n",
      "Enter The Output File Name: \n"
     ]
    }
   ],
   "source": [
    "file_name = input(\"Enter The File With Temperature Data: \") or 'temps.txt'\n",
    "\n",
    "list_lines = []\n",
    "with open(str(file_name), 'r') as fin:\n",
    "    for line in fin:\n",
    "        if not line.startswith(\"#\") and not line.startswith(\" \") and not line.startswith(\"\\n\"):\n",
    "            list_lines.append(line.rstrip())\n",
    "\n",
    "\n",
    "def read_column(line_list, col_index, delimit=''):\n",
    "    col_list = []\n",
    "    for row in range(0, len(line_list)):\n",
    "        if delimit == '':\n",
    "            col_list.append(float(line_list[row].split()[col_index]))\n",
    "        else:\n",
    "            col_list.append(float(line_list[row].split(delimit)[col_index]))\n",
    "    return col_list\n",
    "\n",
    "\n",
    "def convert_to_celsius(value):\n",
    "    return 5 * (value - 32) / 9\n",
    "\n",
    "def convert_to_fahrenheit(value):\n",
    "    return 5 * (value - 32) / 9\n",
    "\n",
    "# Convert To Celsius\n",
    "\n",
    "temp_data = read_column(list_lines, 0)\n",
    "new_data = zip(temp_data[::2], temp_data[1::2])\n",
    "\n",
    "newtemp_data = []\n",
    "for i, j in new_data:\n",
    "    if i > -40 and j > -40:\n",
    "        if i < j:\n",
    "            j = convert_to_celsius(j)\n",
    "        else:\n",
    "            i = convert_to_celsius(i)\n",
    "    else:\n",
    "        if i > j:\n",
    "            j = convert_to_celsius(j)\n",
    "        else:\n",
    "            i = convert_to_celsius(i)\n",
    "            \n",
    "    newtemp_data.append(\"{0:>6.2f}\".format(i))\n",
    "    newtemp_data.append(\"{0:>6.2f}\".format(j))\n",
    "\n",
    "output_filename = input(\"Enter The Output File Name: \") or 'output_temps_celsius.txt'\n",
    "\n",
    "with open(str(output_filename), 'w') as fout:\n",
    "    for temp in newtemp_data:\n",
    "        fout.write(str(temp) + \"\\n\")"
   ]
  },
  {
   "cell_type": "markdown",
   "metadata": {},
   "source": [
    "# Problem 10"
   ]
  },
  {
   "cell_type": "markdown",
   "metadata": {},
   "source": [
    "Column Addition: Make a mock file containing two columns, say apparent magnitude\n",
    "and distance modulus. Write a program to create another file which has these two\n",
    "columns and a third which is the absolute magnitude. The tiresome amount of\n",
    "coding you will do should hopefully make you appreciate the need for having\n",
    "specialized modules in Python for handling tables and should also make you well\n",
    "versed with loops and string operations. Even if you do know, do not use any\n",
    "modules that specialize in table handling."
   ]
  },
  {
   "cell_type": "code",
   "execution_count": 7,
   "metadata": {},
   "outputs": [
    {
     "name": "stdout",
     "output_type": "stream",
     "text": [
      "Enter Input File Name 1: \n",
      "Enter Input File Name 2: \n",
      "Enter Output File Name: \n"
     ]
    }
   ],
   "source": [
    "file_name1 = input(\"Enter Input File Name 1: \") or 'prob10_mock1.txt'\n",
    "file_name2 = input(\"Enter Input File Name 2: \") or 'prob10_mock2.txt'\n",
    "\n",
    "def read_file(file_name):\n",
    "    with open(str(file_name), 'r') as fin:\n",
    "        data_file = fin.read().split()\n",
    "    return data_file\n",
    "\n",
    "data_file1 = [float(value) for value in read_file(file_name1)]\n",
    "data_file2 = [float(value) for value in read_file(file_name2)]\n",
    "\n",
    "output_filename = input(\"Enter Output File Name: \") or 'prob10_output.txt'\n",
    "\n",
    "with open(str(output_filename), 'w') as fout:\n",
    "    fout.write(\"{0:>5}{1:>7}{2:>7}\\n\".format(\"Col 1\", \"Col 2\", \"Col 3\"))\n",
    "    for index in range(0, min(len(data_file1), len(data_file2))):\n",
    "        fout.write(\"{0:>5.2f}{1:>7.2f}{2:>7.2f}\\n\".format(data_file1[index], data_file2[index], data_file1[index] + data_file2[index]))"
   ]
  },
  {
   "cell_type": "markdown",
   "metadata": {},
   "source": [
    "# Problem 11"
   ]
  },
  {
   "cell_type": "markdown",
   "metadata": {},
   "source": [
    "Bad File Names: Imagine that a whole directory of files has been given to you.\n",
    "Sadly, the person who created them used spaces in the file names. This is\n",
    "causing you a lot of inconvenience in using certain programs on them. Once and\n",
    "for all, you decide to end the story and rename all the files to replace spaces\n",
    "with underscores. Go ahead, write a program to do this. Remember, the program\n",
    "should be able to recurse into sub-directories. You will need the \"os\" and\n",
    "\"os.path\" modules for this. Optional: Even apostrophes in file names is a bad\n",
    "idea. Can you extend the program to replace these with an underscore too?"
   ]
  },
  {
   "cell_type": "code",
   "execution_count": 9,
   "metadata": {},
   "outputs": [],
   "source": [
    "import os\n",
    "\n",
    "TEST_PATH = os.getcwd()\n",
    "os.chdir(TEST_PATH)\n",
    "\n",
    "list_garbagefiles = ['Z-ghost file.txt', \"Z-John's Biodata\", \"Z-my data.dat\", \"Z-My Name Is Avinash.txt\"]\n",
    "for file_name in list_garbagefiles:\n",
    "    open(file_name, 'w').close()\n",
    "\n",
    "list_files = [file_name for file_name in os.listdir(TEST_PATH) if os.path.isfile(os.path.join(TEST_PATH, file_name))]\n",
    "# list_files = [file_name for (path, dirs, files) in os.walk(TEST_PATH) for os.path.join(path, file_name) in files]\n",
    "\n",
    "def replace_badnames(inp_string, chars=[\" \"]):\n",
    "    for char in chars: \n",
    "        while True:\n",
    "            char_loc = inp_string.find(char)\n",
    "            if char_loc != -1:\n",
    "                inp_string = inp_string[:char_loc] + '_' + inp_string[char_loc + 1:]\n",
    "            else:\n",
    "                break\n",
    "    return inp_string\n",
    "\n",
    "list_newfiles = []\n",
    "for file_name in list_files:\n",
    "    new_filename = replace_badnames(file_name, chars=[\" \", \"'\"])\n",
    "    list_newfiles.append(new_filename)\n",
    "    os.rename(os.path.join(TEST_PATH, file_name), os.path.join(TEST_PATH, new_filename))\n",
    "\n",
    "for file_name in list_newfiles:\n",
    "    os.remove(os.path.join(TEST_PATH, file_name))"
   ]
  },
  {
   "cell_type": "markdown",
   "metadata": {},
   "source": [
    "# Problem 12"
   ]
  },
  {
   "cell_type": "markdown",
   "metadata": {},
   "source": [
    "Write a program that will translate a text into \"rövarspråket\"\n",
    "(Swedish for \"robber's language\"). That is, double every consonant and place an\n",
    "occurrence of \"o\" in between. For example, translate(\"this is fun\") should\n",
    "return the string \"tothohisos isos fofunon\". The text may be accepted through a\n",
    "file or through user input from a console. The choice is left to the solver of\n",
    "the exercise."
   ]
  },
  {
   "cell_type": "code",
   "execution_count": 31,
   "metadata": {},
   "outputs": [
    {
     "name": "stdout",
     "output_type": "stream",
     "text": [
      "Enter A String To Play Around: Gagan\n",
      "Input_String: 'Gagan'\n",
      "Modified String: 'GoGagoganon'\n"
     ]
    }
   ],
   "source": [
    "input_string = input(\"Enter A String To Play Around: \") or 'This is Not Fun'\n",
    "\n",
    "list_vowels = ['a', 'e', 'i', 'o', 'u']\n",
    "\n",
    "def modify_string(inp_string):\n",
    "    new_string = \"\"\n",
    "    for letter in inp_string:\n",
    "        if letter not in list_vowels and not letter == \" \":\n",
    "            new_string += \"{0}o{0}\".format(letter)\n",
    "        else:\n",
    "            new_string += \"{0}\".format(letter)\n",
    "    return new_string\n",
    "\n",
    "print(\"\"\"Input_String: '{0}'\n",
    "Modified String: '{1}'\"\"\".format(input_string, modify_string(input_string)))"
   ]
  },
  {
   "cell_type": "markdown",
   "metadata": {},
   "source": [
    "# Problem 13"
   ]
  },
  {
   "cell_type": "markdown",
   "metadata": {},
   "source": [
    "Saving lots of web pages using Python - yes, that's what you will do.  Given\n",
    "text file contains a list of urls and file names to be saved in your machine.\n",
    "Write a python code to read one url at a time, download and save it to hardisk\n",
    "with proper filename. (You will need to use the module urllib)\n",
    "\n",
    "Comment: The key idea that is being illustrated here is that Python has a vast\n",
    "toolset. You must be willing to dig into the documentation and learn how to use\n",
    "it."
   ]
  },
  {
   "cell_type": "code",
   "execution_count": 54,
   "metadata": {
    "collapsed": true
   },
   "outputs": [],
   "source": [
    "import os\n",
    "import urllib.request\n",
    "\n",
    "page_url = \"https://www.codingunit.com/c-tutorial-call-by-value-or-call-by-reference\"\n",
    "\n",
    "new_dir = \"Garbage_HTML\"\n",
    "os.mkdir(new_dir)\n",
    "CWD = os.getcwd()\n",
    "os.chdir(new_dir)\n",
    "\n",
    "urllib.request.urlretrieve(page_url, \"Web_Page\")\n",
    "os.chdir(CWD)\n"
   ]
  },
  {
   "cell_type": "markdown",
   "metadata": {},
   "source": [
    "# Problem 14"
   ]
  },
  {
   "cell_type": "markdown",
   "metadata": {},
   "source": [
    "Two files, each containing a list of items should be accepted by your program\n",
    "via command line and then the output should comprise of the following table\n",
    "\n",
    "Number of unique words in A | Number of unique words in B\n",
    "No. Words in A not in B | No. of Words in B not in A\n",
    "No. Words Common | No. of Words\n",
    "List of Common Words\n",
    "\n",
    "Comment: You will want to explore the set datatype in Python to ease this\n",
    "exercise. But if you should choose to define your own way without exploring the\n",
    "set datatype, you are welcome."
   ]
  },
  {
   "cell_type": "code",
   "execution_count": 33,
   "metadata": {},
   "outputs": [
    {
     "name": "stdout",
     "output_type": "stream",
     "text": [
      "Enter Input File Name 1: \n",
      "Enter Input File Name 2: \n",
      "\n",
      "Number Of Unique Words In A = 10   | Number Of Unique Words In B = 20\n",
      "Number Of Words In A Not In B = 27 | Number Of Words In B Not In A = 22\n",
      "Number Of Common Words = 6         | Number Of Words In A, B = 39, 36\n",
      "Common Words Are: ee, 2, 22, e, fs, s, "
     ]
    }
   ],
   "source": [
    "file_name1 = input(\"Enter Input File Name 1: \") or 'garbage1.txt'\n",
    "file_name2 = input(\"Enter Input File Name 2: \") or 'garbage2.txt'\n",
    "\n",
    "def read_file(file_name):\n",
    "    with open(str(file_name), 'r') as fin:\n",
    "        data_file = fin.read().split()\n",
    "    return data_file\n",
    "\n",
    "data_file1 = read_file(file_name1)\n",
    "data_file2 = read_file(file_name2)\n",
    "\n",
    "list_common = list(set([word for word in data_file1 if word in data_file2]))\n",
    "list_sep1 = [word for word in data_file1 if word not in data_file2]\n",
    "list_sep2 = [word for word in data_file2 if word not in data_file1]\n",
    "list_unique1 = list(set(list_sep1))\n",
    "list_unique2 = list(set(list_sep2))\n",
    "\n",
    "output_str = \"\"\"\n",
    "Number Of Unique Words In A = {0}   | Number Of Unique Words In B = {1}\n",
    "Number Of Words In A Not In B = {2} | Number Of Words In B Not In A = {3}\n",
    "Number Of Common Words = {4}         | Number Of Words In A, B = {5}, {6}\n",
    "\"\"\".format(len(list_unique1), len(list_unique2), len(list_sep1), \n",
    "           len(list_sep2), len(list_common), len(data_file1),\n",
    "           len(data_file2))\n",
    "\n",
    "print(output_str + \"Common Words Are:\", end=' ')\n",
    "for val in list_common:\n",
    "    print(val, end=', ')"
   ]
  },
  {
   "cell_type": "markdown",
   "metadata": {},
   "source": [
    "\n",
    "# Problem 15"
   ]
  },
  {
   "cell_type": "markdown",
   "metadata": {},
   "source": [
    "Read the data.csv is file (comma sepearted value type) containing data values\n",
    "seperated by commas for different stars. Read the file and print the following\n",
    "information about each star:  RA, Dec and P (polarization).\n",
    "\n",
    "Hint. You may use the split function to make a list for each line of the file\n",
    "and then extract Ra, Dec and polarization value from the list."
   ]
  },
  {
   "cell_type": "code",
   "execution_count": 34,
   "metadata": {},
   "outputs": [
    {
     "name": "stdout",
     "output_type": "stream",
     "text": [
      "Enter The File With RA, DEC, Polarization Information Of Stars: \n",
      "\n",
      "Star_ID     RA      DEC       P\n",
      "\n",
      "  1      18.683   13.452   0.04087\n",
      "  2      18.630   13.330   0.01065\n",
      "  3      18.677   13.331   0.00381\n",
      "  4      18.617   13.522   0.00439\n",
      "  5      18.738   13.330   0.00386\n",
      "  6      18.657   13.510   0.01093\n",
      "  7      18.817   13.487   0.09745\n",
      "  8      18.681   13.494   0.01672\n",
      "  9      18.625   13.491   0.00359\n",
      " 10      18.620   13.482   0.00929\n",
      " 11      18.657   13.478   0.02438\n",
      " 12      18.803   13.464   0.02543\n",
      " 13      18.787   13.461   0.00389\n",
      " 14      18.765   13.379   0.00620\n",
      " 15      18.699   13.346   0.02215\n",
      " 16      18.664   13.364   0.04499\n",
      " 17      18.764   13.328   0.01901\n",
      " 18      18.763   13.352   0.01341\n",
      " 19      18.758   13.377   0.02721\n",
      " 20      18.637   13.386   0.01016\n"
     ]
    }
   ],
   "source": [
    "# Read data.csv file and Extract RA, DEC, Polarization Information Of Each Star\n",
    "\n",
    "file_name = input(\"Enter The File With RA, DEC, Polarization Information Of Stars: \") or 'data.csv'\n",
    "delimiter = \",\"\n",
    "\n",
    "list_lines = []\n",
    "with open(str(file_name), 'r') as fin:\n",
    "    for line in fin:\n",
    "        if not line.startswith(\"#\") and not line.startswith(\" \") and not line.startswith(\"\\n\"):\n",
    "            list_lines.append(line.rstrip())\n",
    "\n",
    "def read_columns(line_list, col_index, delimit=','):\n",
    "    col_list = []\n",
    "    for row in range(0, len(line_list)):\n",
    "        col_list.append(float(line_list[row].split(delimit)[col_index]))\n",
    "    return col_list\n",
    "\n",
    "colindex_RA = 2\n",
    "colindex_DEC = 3\n",
    "colindex_P = 4\n",
    "\n",
    "list_RA = read_columns(list_lines, colindex_RA)\n",
    "list_DEC = read_columns(list_lines, colindex_DEC)\n",
    "list_P = read_columns(list_lines, colindex_P)\n",
    "\n",
    "print(\"\\n{0:7}{1:>7}{2:>9}{3:>8}\\n\".format(\"Star_ID\", \"RA\", \"DEC\", \"P\"))\n",
    "\n",
    "for index in range(0, len(list_lines)):\n",
    "    print(\"{0:^5}{1:>10.3f}{2:>9.3f}{3:>10.5f}\".format\n",
    "          (index + 1, list_RA[index], list_DEC[index], list_P[index]))"
   ]
  },
  {
   "cell_type": "markdown",
   "metadata": {},
   "source": [
    "# Problem 16"
   ]
  },
  {
   "cell_type": "markdown",
   "metadata": {},
   "source": [
    "Write a function to calculate factorial of any natural number. A function should\n",
    "take natural number as an argument. Also try doing the same thing using recursion\n",
    "of a function. Verify that the various ways of doing this give the correct\n",
    "answer.\n"
   ]
  },
  {
   "cell_type": "code",
   "execution_count": 41,
   "metadata": {},
   "outputs": [
    {
     "name": "stdout",
     "output_type": "stream",
     "text": [
      "Enter The Number Whose Factorial Is To Be Obtained: 90\n",
      "Factorial Of 90 Is 1485715964481761497309522733620825737885569961284688766942216863704985393094065876545992131370884059645617234469978112000000000000000000000\n",
      "0.00018596649169921875\n"
     ]
    }
   ],
   "source": [
    "# Returns The Factorial Of The Number Input By The User\n",
    "\n",
    "number = int(input(\"Enter The Number Whose Factorial Is To Be Obtained: \") or '10')\n",
    "\n",
    "def factorial_recur(num):\n",
    "    return num * factorial_recur(num - 1) if num > 1 else 1\n",
    "\n",
    "def factorial1(num):\n",
    "    fac = 1\n",
    "    while True:\n",
    "        if num == 1:\n",
    "            return fac\n",
    "        else:\n",
    "            fac *= num\n",
    "            num -= 1\n",
    "    return num\n",
    "\n",
    "import time\n",
    "\n",
    "t1 = time.time()\n",
    "print(\"Factorial Of {0} Is {1}\".format(number, factorial1(number)))\n",
    "print(time.time() - t1)"
   ]
  },
  {
   "cell_type": "markdown",
   "metadata": {},
   "source": [
    "# Problem 17"
   ]
  },
  {
   "cell_type": "markdown",
   "metadata": {},
   "source": [
    "The 'os' library has a wide variety of functions and can be used to do many diverse\n",
    "tasks. To illustrate that, perform the following task using os library:\n",
    "RBPLJ0324+3410 is a folder containing many files. List all of the files in\n",
    "the directory and rename them according to their size in a manner convenient\n",
    "to you.\n",
    "\n",
    "Hint: You may use sort function to reorder lists."
   ]
  },
  {
   "cell_type": "code",
   "execution_count": 5,
   "metadata": {},
   "outputs": [
    {
     "name": "stdout",
     "output_type": "stream",
     "text": [
      "Enter The Directory Name:\n"
     ]
    }
   ],
   "source": [
    "# Rename The Files In Directory 'RBPLJ0324+3410' And Append File_Size At The End Of The File Names\n",
    "\n",
    "import os\n",
    "\n",
    "DIR_NAME = input(\"Enter The Directory Name:\") or 'RBPLJ0324+3410'\n",
    "ROOT_PATH = os.getcwd()\n",
    "DIR_PATH = ROOT_PATH + \"/\" + DIR_NAME\n",
    "\n",
    "list_files = [os.path.join(DIR_PATH, file_name) for file_name in os.listdir(DIR_PATH) \n",
    "              if os.path.isfile(os.path.join(DIR_PATH, file_name))]\n",
    "\n",
    "for file_name in list_files:\n",
    "    start_name, extension = os.path.splitext(file_name)\n",
    "    new_name = str(start_name) + \"_{0:>6}\".format(os.path.getsize(file_name)) + str(extension)\n",
    "    os.rename(file_name, new_name)"
   ]
  },
  {
   "cell_type": "markdown",
   "metadata": {},
   "source": [
    "# Problem 18"
   ]
  },
  {
   "cell_type": "markdown",
   "metadata": {},
   "source": [
    "Create a library of functions to convert polar coordinates to Cartesian\n",
    "coordinates and vice versa. Write a program that asks the user for r and Theta and \n",
    "in return prints the x and y coordinates. "
   ]
  },
  {
   "cell_type": "code",
   "execution_count": 29,
   "metadata": {},
   "outputs": [
    {
     "name": "stdout",
     "output_type": "stream",
     "text": [
      "Enter Process To Be Implemented (PTC, CTP): PTC\n",
      "Enter R & Theta Values: \n",
      "Polar To Cartesian Coordinates Conversion:\n",
      "    Input: R = 5, Theta = 45\n",
      "    Output: X =  3.54, Y =  3.54\n"
     ]
    }
   ],
   "source": [
    "import math\n",
    "\n",
    "while True:\n",
    "    process = input(\"Enter Process To Be Implemented (PTC, CTP): \") or 'CTP'\n",
    "    \n",
    "    if process == \"CTP\":\n",
    "        values = input(\"Enter X & Y Values: \") or \"3,4\"\n",
    "        bool_task = True\n",
    "        break\n",
    "    elif process == \"PTC\":\n",
    "        values = input(\"Enter R & Theta Values: \") or \"5,45\"\n",
    "        bool_task = False\n",
    "        break\n",
    "    else:\n",
    "        print(\"*ERROR: Invalid Conversion Process Specified\")\n",
    "    \n",
    "def polar_to_cartesian(r, theta):\n",
    "    x = \"{0:>5.2f}\".format(float(r) * math.cos(math.radians(float(theta))))\n",
    "    y = \"{0:>5.2f}\".format(float(r) * math.sin(math.radians(float(theta))))\n",
    "    return x, y\n",
    "    \n",
    "def cartesian_to_polar(x, y):\n",
    "    r = \"{0:>5.2f}\".format((float(x) ** 2 + float(y) ** 2) ** 0.5)\n",
    "    theta = \"{0:>6.2f}\".format(math.degrees(math.atan2(float(y), float(x))))\n",
    "    return r, theta\n",
    "\n",
    "if bool_task:\n",
    "    print(r\"\"\"Cartesian To Polar Coordinates Conversion:\n",
    "    Input: X = {0}, Y = {1}\n",
    "    Output: R = {2}, Theta = {3}\"\"\".format(values.split(\",\")[0], values.split(\",\")[1], \n",
    "                                              *cartesian_to_polar(values.split(\",\")[0], values.split(\",\")[1])))\n",
    "else:\n",
    "    print(r\"\"\"Polar To Cartesian Coordinates Conversion:\n",
    "    Input: R = {0}, Theta = {1}\n",
    "    Output: X = {2}, Y = {3}\"\"\".format(values.split(\",\")[0], values.split(\",\")[1], \n",
    "                                       *polar_to_cartesian(values.split(\",\")[0], values.split(\",\")[1])))"
   ]
  },
  {
   "cell_type": "code",
   "execution_count": null,
   "metadata": {
    "collapsed": true
   },
   "outputs": [],
   "source": []
  }
 ],
 "metadata": {
  "kernelspec": {
   "display_name": "Python 2",
   "language": "python",
   "name": "python2"
  },
  "language_info": {
   "codemirror_mode": {
    "name": "ipython",
    "version": 2
   },
   "file_extension": ".py",
   "mimetype": "text/x-python",
   "name": "python",
   "nbconvert_exporter": "python",
   "pygments_lexer": "ipython2",
   "version": "2.7.16"
  }
 },
 "nbformat": 4,
 "nbformat_minor": 2
}
